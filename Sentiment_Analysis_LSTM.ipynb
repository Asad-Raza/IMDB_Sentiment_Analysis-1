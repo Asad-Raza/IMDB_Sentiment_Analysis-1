{
  "nbformat": 4,
  "nbformat_minor": 0,
  "metadata": {
    "colab": {
      "name": "Sentiment_Analysis_LSTM.ipynb",
      "provenance": []
    },
    "kernelspec": {
      "name": "python3",
      "display_name": "Python 3"
    },
    "accelerator": "GPU"
  },
  "cells": [
    {
      "cell_type": "code",
      "metadata": {
        "id": "gG7OZR4omQyn",
        "colab_type": "code",
        "colab": {
          "base_uri": "https://localhost:8080/",
          "height": 79
        },
        "outputId": "0b3070da-ad1a-4f38-8710-0151ff47b630"
      },
      "source": [
        "import numpy as np\n",
        "import matplotlib.pyplot as plt\n",
        "plt.style.use('ggplot')\n",
        "\n",
        "from keras.datasets import imdb\n",
        "from keras import models\n",
        "from keras import layers\n",
        "from keras.preprocessing.sequence import pad_sequences"
      ],
      "execution_count": 1,
      "outputs": [
        {
          "output_type": "stream",
          "text": [
            "Using TensorFlow backend.\n"
          ],
          "name": "stderr"
        },
        {
          "output_type": "display_data",
          "data": {
            "text/html": [
              "<p style=\"color: red;\">\n",
              "The default version of TensorFlow in Colab will soon switch to TensorFlow 2.x.<br>\n",
              "We recommend you <a href=\"https://www.tensorflow.org/guide/migrate\" target=\"_blank\">upgrade</a> now \n",
              "or ensure your notebook will continue to use TensorFlow 1.x via the <code>%tensorflow_version 1.x</code> magic:\n",
              "<a href=\"https://colab.research.google.com/notebooks/tensorflow_version.ipynb\" target=\"_blank\">more info</a>.</p>\n"
            ],
            "text/plain": [
              "<IPython.core.display.HTML object>"
            ]
          },
          "metadata": {
            "tags": []
          }
        }
      ]
    },
    {
      "cell_type": "code",
      "metadata": {
        "id": "L6sEJCS6mQt4",
        "colab_type": "code",
        "colab": {}
      },
      "source": [
        "max_features = 10000  # Only include top 10,000 words in the vocabulary\n",
        "maxlen = 500  # Cut off each review after 500 words\n",
        "batch_size = 32"
      ],
      "execution_count": 0,
      "outputs": []
    },
    {
      "cell_type": "code",
      "metadata": {
        "id": "qbG6UUyemQvj",
        "colab_type": "code",
        "colab": {
          "base_uri": "https://localhost:8080/",
          "height": 50
        },
        "outputId": "ba1afcc5-ecfd-4179-dd20-554ff1dee4c2"
      },
      "source": [
        "(X_train, Y_train), (X_test, Y_test) = imdb.load_data(num_words=max_features)"
      ],
      "execution_count": 3,
      "outputs": [
        {
          "output_type": "stream",
          "text": [
            "Downloading data from https://s3.amazonaws.com/text-datasets/imdb.npz\n",
            "17465344/17464789 [==============================] - 1s 0us/step\n"
          ],
          "name": "stdout"
        }
      ]
    },
    {
      "cell_type": "code",
      "metadata": {
        "id": "oyXUs6sNmQqa",
        "colab_type": "code",
        "colab": {
          "base_uri": "https://localhost:8080/",
          "height": 33
        },
        "outputId": "3ee240a1-9dbf-443c-8799-0ccb12266e19"
      },
      "source": [
        "X_train.shape, X_test.shape"
      ],
      "execution_count": 4,
      "outputs": [
        {
          "output_type": "execute_result",
          "data": {
            "text/plain": [
              "((25000,), (25000,))"
            ]
          },
          "metadata": {
            "tags": []
          },
          "execution_count": 4
        }
      ]
    },
    {
      "cell_type": "code",
      "metadata": {
        "id": "EVmEb7msmQov",
        "colab_type": "code",
        "colab": {}
      },
      "source": [
        "X_train = pad_sequences(X_train, maxlen = maxlen)\n",
        "X_test = pad_sequences(X_test, maxlen = maxlen)"
      ],
      "execution_count": 0,
      "outputs": []
    },
    {
      "cell_type": "code",
      "metadata": {
        "id": "_HNpblLYl4YY",
        "colab_type": "code",
        "colab": {
          "base_uri": "https://localhost:8080/",
          "height": 221
        },
        "outputId": "a33447d0-4e9b-455c-9ef9-d45d3ff0a977"
      },
      "source": [
        "model = models.Sequential()\n",
        "model.add(layers.Embedding(max_features, 32, input_length = maxlen))\n",
        "model.add(layers.Dropout(0.2))\n",
        "model.add(layers.CuDNNLSTM(32))\n",
        "model.add(layers.Dense(1, activation = 'sigmoid'))"
      ],
      "execution_count": 6,
      "outputs": [
        {
          "output_type": "stream",
          "text": [
            "WARNING:tensorflow:From /usr/local/lib/python3.6/dist-packages/keras/backend/tensorflow_backend.py:66: The name tf.get_default_graph is deprecated. Please use tf.compat.v1.get_default_graph instead.\n",
            "\n",
            "WARNING:tensorflow:From /usr/local/lib/python3.6/dist-packages/keras/backend/tensorflow_backend.py:541: The name tf.placeholder is deprecated. Please use tf.compat.v1.placeholder instead.\n",
            "\n",
            "WARNING:tensorflow:From /usr/local/lib/python3.6/dist-packages/keras/backend/tensorflow_backend.py:4432: The name tf.random_uniform is deprecated. Please use tf.random.uniform instead.\n",
            "\n",
            "WARNING:tensorflow:From /usr/local/lib/python3.6/dist-packages/keras/backend/tensorflow_backend.py:148: The name tf.placeholder_with_default is deprecated. Please use tf.compat.v1.placeholder_with_default instead.\n",
            "\n",
            "WARNING:tensorflow:From /usr/local/lib/python3.6/dist-packages/keras/backend/tensorflow_backend.py:3733: calling dropout (from tensorflow.python.ops.nn_ops) with keep_prob is deprecated and will be removed in a future version.\n",
            "Instructions for updating:\n",
            "Please use `rate` instead of `keep_prob`. Rate should be set to `rate = 1 - keep_prob`.\n"
          ],
          "name": "stdout"
        }
      ]
    },
    {
      "cell_type": "code",
      "metadata": {
        "id": "_qvoVsgXl4j7",
        "colab_type": "code",
        "colab": {
          "base_uri": "https://localhost:8080/",
          "height": 940
        },
        "outputId": "2fb46b87-4da2-460a-9462-c63fe6ee3aaf"
      },
      "source": [
        "model.compile(optimizer='Adam', loss= 'binary_crossentropy', metrics=['accuracy'])\n",
        "\n",
        "history = model.fit(X_train, Y_train, epochs= 15, batch_size=512, validation_split= 0.2)"
      ],
      "execution_count": 7,
      "outputs": [
        {
          "output_type": "stream",
          "text": [
            "WARNING:tensorflow:From /usr/local/lib/python3.6/dist-packages/keras/optimizers.py:793: The name tf.train.Optimizer is deprecated. Please use tf.compat.v1.train.Optimizer instead.\n",
            "\n",
            "WARNING:tensorflow:From /usr/local/lib/python3.6/dist-packages/keras/backend/tensorflow_backend.py:3657: The name tf.log is deprecated. Please use tf.math.log instead.\n",
            "\n",
            "WARNING:tensorflow:From /usr/local/lib/python3.6/dist-packages/tensorflow_core/python/ops/nn_impl.py:183: where (from tensorflow.python.ops.array_ops) is deprecated and will be removed in a future version.\n",
            "Instructions for updating:\n",
            "Use tf.where in 2.0, which has the same broadcast rule as np.where\n",
            "WARNING:tensorflow:From /usr/local/lib/python3.6/dist-packages/keras/backend/tensorflow_backend.py:1033: The name tf.assign_add is deprecated. Please use tf.compat.v1.assign_add instead.\n",
            "\n",
            "WARNING:tensorflow:From /usr/local/lib/python3.6/dist-packages/keras/backend/tensorflow_backend.py:1020: The name tf.assign is deprecated. Please use tf.compat.v1.assign instead.\n",
            "\n",
            "WARNING:tensorflow:From /usr/local/lib/python3.6/dist-packages/keras/backend/tensorflow_backend.py:3005: The name tf.Session is deprecated. Please use tf.compat.v1.Session instead.\n",
            "\n",
            "Train on 20000 samples, validate on 5000 samples\n",
            "Epoch 1/15\n",
            "WARNING:tensorflow:From /usr/local/lib/python3.6/dist-packages/keras/backend/tensorflow_backend.py:190: The name tf.get_default_session is deprecated. Please use tf.compat.v1.get_default_session instead.\n",
            "\n",
            "WARNING:tensorflow:From /usr/local/lib/python3.6/dist-packages/keras/backend/tensorflow_backend.py:197: The name tf.ConfigProto is deprecated. Please use tf.compat.v1.ConfigProto instead.\n",
            "\n",
            "WARNING:tensorflow:From /usr/local/lib/python3.6/dist-packages/keras/backend/tensorflow_backend.py:207: The name tf.global_variables is deprecated. Please use tf.compat.v1.global_variables instead.\n",
            "\n",
            "WARNING:tensorflow:From /usr/local/lib/python3.6/dist-packages/keras/backend/tensorflow_backend.py:216: The name tf.is_variable_initialized is deprecated. Please use tf.compat.v1.is_variable_initialized instead.\n",
            "\n",
            "WARNING:tensorflow:From /usr/local/lib/python3.6/dist-packages/keras/backend/tensorflow_backend.py:223: The name tf.variables_initializer is deprecated. Please use tf.compat.v1.variables_initializer instead.\n",
            "\n",
            "20000/20000 [==============================] - 15s 765us/step - loss: 0.6595 - acc: 0.6227 - val_loss: 0.5230 - val_acc: 0.7652\n",
            "Epoch 2/15\n",
            "20000/20000 [==============================] - 2s 83us/step - loss: 0.4320 - acc: 0.8193 - val_loss: 0.3809 - val_acc: 0.8460\n",
            "Epoch 3/15\n",
            "20000/20000 [==============================] - 2s 83us/step - loss: 0.2921 - acc: 0.8889 - val_loss: 0.3522 - val_acc: 0.8466\n",
            "Epoch 4/15\n",
            "20000/20000 [==============================] - 2s 83us/step - loss: 0.2321 - acc: 0.9162 - val_loss: 0.3014 - val_acc: 0.8768\n",
            "Epoch 5/15\n",
            "20000/20000 [==============================] - 2s 84us/step - loss: 0.1807 - acc: 0.9393 - val_loss: 0.3066 - val_acc: 0.8844\n",
            "Epoch 6/15\n",
            "20000/20000 [==============================] - 2s 83us/step - loss: 0.1495 - acc: 0.9527 - val_loss: 0.3229 - val_acc: 0.8868\n",
            "Epoch 7/15\n",
            "20000/20000 [==============================] - 2s 83us/step - loss: 0.1280 - acc: 0.9593 - val_loss: 0.3537 - val_acc: 0.8822\n",
            "Epoch 8/15\n",
            "20000/20000 [==============================] - 2s 82us/step - loss: 0.1188 - acc: 0.9636 - val_loss: 0.3433 - val_acc: 0.8846\n",
            "Epoch 9/15\n",
            "20000/20000 [==============================] - 2s 84us/step - loss: 0.1035 - acc: 0.9682 - val_loss: 0.3472 - val_acc: 0.8716\n",
            "Epoch 10/15\n",
            "20000/20000 [==============================] - 2s 82us/step - loss: 0.0961 - acc: 0.9716 - val_loss: 0.3620 - val_acc: 0.8768\n",
            "Epoch 11/15\n",
            "20000/20000 [==============================] - 2s 83us/step - loss: 0.0739 - acc: 0.9802 - val_loss: 0.4114 - val_acc: 0.8698\n",
            "Epoch 12/15\n",
            "20000/20000 [==============================] - 2s 83us/step - loss: 0.0742 - acc: 0.9788 - val_loss: 0.3843 - val_acc: 0.8698\n",
            "Epoch 13/15\n",
            "20000/20000 [==============================] - 2s 83us/step - loss: 0.0687 - acc: 0.9809 - val_loss: 0.4573 - val_acc: 0.8738\n",
            "Epoch 14/15\n",
            "20000/20000 [==============================] - 2s 83us/step - loss: 0.0609 - acc: 0.9834 - val_loss: 0.4382 - val_acc: 0.8728\n",
            "Epoch 15/15\n",
            "20000/20000 [==============================] - 2s 83us/step - loss: 0.0564 - acc: 0.9849 - val_loss: 0.4740 - val_acc: 0.8646\n"
          ],
          "name": "stdout"
        }
      ]
    },
    {
      "cell_type": "code",
      "metadata": {
        "id": "TQdRDXtgl4io",
        "colab_type": "code",
        "colab": {}
      },
      "source": [
        "model.compile(loss = 'binary_crossentropy', optimizer= 'rmsprop', metrics= ['accuracy'])"
      ],
      "execution_count": 0,
      "outputs": []
    },
    {
      "cell_type": "code",
      "metadata": {
        "id": "2Sjn1Mz1pcqY",
        "colab_type": "code",
        "colab": {}
      },
      "source": [
        "loss = history.history['loss']\n",
        "val_loss = history.history['val_loss']\n",
        "acc = history.history['acc']\n",
        "val_acc = history.history['val_acc']"
      ],
      "execution_count": 0,
      "outputs": []
    },
    {
      "cell_type": "code",
      "metadata": {
        "id": "NxII30xGpgSV",
        "colab_type": "code",
        "colab": {
          "base_uri": "https://localhost:8080/",
          "height": 282
        },
        "outputId": "683aafb0-5076-4d9b-cfaf-e4e426311572"
      },
      "source": [
        "epochs = range(1, 16)\n",
        "\n",
        "plt.plot(epochs, loss, 'yo', label = 'Training Loss')\n",
        "plt.plot(epochs, val_loss, 'y', label = 'Validation Loss')\n",
        "plt.xlabel('Epochs')\n",
        "plt.ylabel('Loss')\n",
        "plt.legend()\n",
        "plt.show()"
      ],
      "execution_count": 10,
      "outputs": [
        {
          "output_type": "display_data",
          "data": {
            "image/png": "[encoded data removed]",
            "text/plain": [
              "<Figure size 432x288 with 1 Axes>"
            ]
          },
          "metadata": {
            "tags": []
          }
        }
      ]
    },
    {
      "cell_type": "code",
      "metadata": {
        "id": "0T2YUhEZl4bV",
        "colab_type": "code",
        "colab": {
          "base_uri": "https://localhost:8080/",
          "height": 50
        },
        "outputId": "9ff2b6d3-a97b-4314-bdb7-49f26bc757ef"
      },
      "source": [
        "model.evaluate(X_test, Y_test)"
      ],
      "execution_count": 11,
      "outputs": [
        {
          "output_type": "stream",
          "text": [
            "25000/25000 [==============================] - 6s 241us/step\n"
          ],
          "name": "stdout"
        },
        {
          "output_type": "execute_result",
          "data": {
            "text/plain": [
              "[0.5472562632369995, 0.84592]"
            ]
          },
          "metadata": {
            "tags": []
          },
          "execution_count": 11
        }
      ]
    },
    {
      "cell_type": "code",
      "metadata": {
        "id": "wT_N931Ko8fa",
        "colab_type": "code",
        "colab": {}
      },
      "source": [
        ""
      ],
      "execution_count": 0,
      "outputs": []
    }
  ]
}