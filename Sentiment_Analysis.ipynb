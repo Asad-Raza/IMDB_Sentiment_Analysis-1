{
  "nbformat": 4,
  "nbformat_minor": 0,
  "metadata": {
    "colab": {
      "name": "Sentiment_Analysis.ipynb",
      "provenance": [],
      "collapsed_sections": []
    },
    "kernelspec": {
      "name": "python3",
      "display_name": "Python 3"
    },
    "accelerator": "GPU"
  },
  "cells": [
    {
      "cell_type": "code",
      "metadata": {
        "id": "pfi3i3gHEkBz",
        "colab_type": "code",
        "outputId": "050668e1-8050-4eea-d608-960eb92eb555",
        "colab": {
          "base_uri": "https://localhost:8080/",
          "height": 62
        }
      },
      "source": [
        "import tensorflow as tf\n",
        "import numpy as np\n",
        "import pandas as pd"
      ],
      "execution_count": 1,
      "outputs": [
        {
          "output_type": "display_data",
          "data": {
            "text/html": [
              "<p style=\"color: red;\">\n",
              "The default version of TensorFlow in Colab will soon switch to TensorFlow 2.x.<br>\n",
              "We recommend you <a href=\"https://www.tensorflow.org/guide/migrate\" target=\"_blank\">upgrade</a> now \n",
              "or ensure your notebook will continue to use TensorFlow 1.x via the <code>%tensorflow_version 1.x</code> magic:\n",
              "<a href=\"https://colab.research.google.com/notebooks/tensorflow_version.ipynb\" target=\"_blank\">more info</a>.</p>\n"
            ],
            "text/plain": [
              "<IPython.core.display.HTML object>"
            ]
          },
          "metadata": {
            "tags": []
          }
        }
      ]
    },
    {
      "cell_type": "code",
      "metadata": {
        "id": "sZpAYGyDEper",
        "colab_type": "code",
        "outputId": "dcb49dff-e3be-497a-eecc-dd3619c66ae1",
        "colab": {
          "base_uri": "https://localhost:8080/",
          "height": 33
        }
      },
      "source": [
        "from keras.datasets import imdb\n",
        "from keras.models import Sequential\n",
        "from keras.layers import Dense, Dropout\n",
        "from keras.optimizers import Adam"
      ],
      "execution_count": 2,
      "outputs": [
        {
          "output_type": "stream",
          "text": [
            "Using TensorFlow backend.\n"
          ],
          "name": "stderr"
        }
      ]
    },
    {
      "cell_type": "code",
      "metadata": {
        "id": "1LcrvMTWEsYv",
        "colab_type": "code",
        "outputId": "dd60353b-07af-4df3-9f81-1edc01bab0ff",
        "colab": {
          "base_uri": "https://localhost:8080/",
          "height": 50
        }
      },
      "source": [
        "(X_train, Y_train), (X_test, Y_test) = imdb.load_data(num_words=10000)"
      ],
      "execution_count": 3,
      "outputs": [
        {
          "output_type": "stream",
          "text": [
            "Downloading data from https://s3.amazonaws.com/text-datasets/imdb.npz\n",
            "17465344/17464789 [==============================] - 1s 0us/step\n"
          ],
          "name": "stdout"
        }
      ]
    },
    {
      "cell_type": "code",
      "metadata": {
        "id": "-Yaw_DFWEsjc",
        "colab_type": "code",
        "colab": {
          "base_uri": "https://localhost:8080/",
          "height": 33
        },
        "outputId": "62814808-cb3d-4c3d-9ff1-bf1fc9313ad9"
      },
      "source": [
        "X_train.shape"
      ],
      "execution_count": 4,
      "outputs": [
        {
          "output_type": "execute_result",
          "data": {
            "text/plain": [
              "(25000,)"
            ]
          },
          "metadata": {
            "tags": []
          },
          "execution_count": 4
        }
      ]
    },
    {
      "cell_type": "code",
      "metadata": {
        "id": "fknNhWFtEsU5",
        "colab_type": "code",
        "colab": {
          "base_uri": "https://localhost:8080/",
          "height": 170
        },
        "outputId": "89bd50ad-4b02-4972-fab7-1ae1f50418de"
      },
      "source": [
        "X_train"
      ],
      "execution_count": 5,
      "outputs": [
        {
          "output_type": "execute_result",
          "data": {
            "text/plain": [
              "array([list([1, 14, 22, 16, 43, 530, 973, 1622, 1385, 65, 458, 4468, 66, 3941, 4, 173, 36, 256, 5, 25, 100, 43, 838, 112, 50, 670, 2, 9, 35, 480, 284, 5, 150, 4, 172, 112, 167, 2, 336, 385, 39, 4, 172, 4536, 1111, 17, 546, 38, 13, 447, 4, 192, 50, 16, 6, 147, 2025, 19, 14, 22, 4, 1920, 4613, 469, 4, 22, 71, 87, 12, 16, 43, 530, 38, 76, 15, 13, 1247, 4, 22, 17, 515, 17, 12, 16, 626, 18, 2, 5, 62, 386, 12, 8, 316, 8, 106, 5, 4, 2223, 5244, 16, 480, 66, 3785, 33, 4, 130, 12, 16, 38, 619, 5, 25, 124, 51, 36, 135, 48, 25, 1415, 33, 6, 22, 12, 215, 28, 77, 52, 5, 14, 407, 16, 82, 2, 8, 4, 107, 117, 5952, 15, 256, 4, 2, 7, 3766, 5, 723, 36, 71, 43, 530, 476, 26, 400, 317, 46, 7, 4, 2, 1029, 13, 104, 88, 4, 381, 15, 297, 98, 32, 2071, 56, 26, 141, 6, 194, 7486, 18, 4, 226, 22, 21, 134, 476, 26, 480, 5, 144, 30, 5535, 18, 51, 36, 28, 224, 92, 25, 104, 4, 226, 65, 16, 38, 1334, 88, 12, 16, 283, 5, 16, 4472, 113, 103, 32, 15, 16, 5345, 19, 178, 32]),\n",
              "       list([1, 194, 1153, 194, 8255, 78, 228, 5, 6, 1463, 4369, 5012, 134, 26, 4, 715, 8, 118, 1634, 14, 394, 20, 13, 119, 954, 189, 102, 5, 207, 110, 3103, 21, 14, 69, 188, 8, 30, 23, 7, 4, 249, 126, 93, 4, 114, 9, 2300, 1523, 5, 647, 4, 116, 9, 35, 8163, 4, 229, 9, 340, 1322, 4, 118, 9, 4, 130, 4901, 19, 4, 1002, 5, 89, 29, 952, 46, 37, 4, 455, 9, 45, 43, 38, 1543, 1905, 398, 4, 1649, 26, 6853, 5, 163, 11, 3215, 2, 4, 1153, 9, 194, 775, 7, 8255, 2, 349, 2637, 148, 605, 2, 8003, 15, 123, 125, 68, 2, 6853, 15, 349, 165, 4362, 98, 5, 4, 228, 9, 43, 2, 1157, 15, 299, 120, 5, 120, 174, 11, 220, 175, 136, 50, 9, 4373, 228, 8255, 5, 2, 656, 245, 2350, 5, 4, 9837, 131, 152, 491, 18, 2, 32, 7464, 1212, 14, 9, 6, 371, 78, 22, 625, 64, 1382, 9, 8, 168, 145, 23, 4, 1690, 15, 16, 4, 1355, 5, 28, 6, 52, 154, 462, 33, 89, 78, 285, 16, 145, 95]),\n",
              "       list([1, 14, 47, 8, 30, 31, 7, 4, 249, 108, 7, 4, 5974, 54, 61, 369, 13, 71, 149, 14, 22, 112, 4, 2401, 311, 12, 16, 3711, 33, 75, 43, 1829, 296, 4, 86, 320, 35, 534, 19, 263, 4821, 1301, 4, 1873, 33, 89, 78, 12, 66, 16, 4, 360, 7, 4, 58, 316, 334, 11, 4, 1716, 43, 645, 662, 8, 257, 85, 1200, 42, 1228, 2578, 83, 68, 3912, 15, 36, 165, 1539, 278, 36, 69, 2, 780, 8, 106, 14, 6905, 1338, 18, 6, 22, 12, 215, 28, 610, 40, 6, 87, 326, 23, 2300, 21, 23, 22, 12, 272, 40, 57, 31, 11, 4, 22, 47, 6, 2307, 51, 9, 170, 23, 595, 116, 595, 1352, 13, 191, 79, 638, 89, 2, 14, 9, 8, 106, 607, 624, 35, 534, 6, 227, 7, 129, 113]),\n",
              "       ...,\n",
              "       list([1, 11, 6, 230, 245, 6401, 9, 6, 1225, 446, 2, 45, 2174, 84, 8322, 4007, 21, 4, 912, 84, 2, 325, 725, 134, 2, 1715, 84, 5, 36, 28, 57, 1099, 21, 8, 140, 8, 703, 5, 2, 84, 56, 18, 1644, 14, 9, 31, 7, 4, 9406, 1209, 2295, 2, 1008, 18, 6, 20, 207, 110, 563, 12, 8, 2901, 2, 8, 97, 6, 20, 53, 4767, 74, 4, 460, 364, 1273, 29, 270, 11, 960, 108, 45, 40, 29, 2961, 395, 11, 6, 4065, 500, 7, 2, 89, 364, 70, 29, 140, 4, 64, 4780, 11, 4, 2678, 26, 178, 4, 529, 443, 2, 5, 27, 710, 117, 2, 8123, 165, 47, 84, 37, 131, 818, 14, 595, 10, 10, 61, 1242, 1209, 10, 10, 288, 2260, 1702, 34, 2901, 2, 4, 65, 496, 4, 231, 7, 790, 5, 6, 320, 234, 2766, 234, 1119, 1574, 7, 496, 4, 139, 929, 2901, 2, 7750, 5, 4241, 18, 4, 8497, 2, 250, 11, 1818, 7561, 4, 4217, 5408, 747, 1115, 372, 1890, 1006, 541, 9303, 7, 4, 59, 2, 4, 3586, 2]),\n",
              "       list([1, 1446, 7079, 69, 72, 3305, 13, 610, 930, 8, 12, 582, 23, 5, 16, 484, 685, 54, 349, 11, 4120, 2959, 45, 58, 1466, 13, 197, 12, 16, 43, 23, 2, 5, 62, 30, 145, 402, 11, 4131, 51, 575, 32, 61, 369, 71, 66, 770, 12, 1054, 75, 100, 2198, 8, 4, 105, 37, 69, 147, 712, 75, 3543, 44, 257, 390, 5, 69, 263, 514, 105, 50, 286, 1814, 23, 4, 123, 13, 161, 40, 5, 421, 4, 116, 16, 897, 13, 2, 40, 319, 5872, 112, 6700, 11, 4803, 121, 25, 70, 3468, 4, 719, 3798, 13, 18, 31, 62, 40, 8, 7200, 4, 2, 7, 14, 123, 5, 942, 25, 8, 721, 12, 145, 5, 202, 12, 160, 580, 202, 12, 6, 52, 58, 2, 92, 401, 728, 12, 39, 14, 251, 8, 15, 251, 5, 2, 12, 38, 84, 80, 124, 12, 9, 23]),\n",
              "       list([1, 17, 6, 194, 337, 7, 4, 204, 22, 45, 254, 8, 106, 14, 123, 4, 2, 270, 2, 5, 2, 2, 732, 2098, 101, 405, 39, 14, 1034, 4, 1310, 9, 115, 50, 305, 12, 47, 4, 168, 5, 235, 7, 38, 111, 699, 102, 7, 4, 4039, 9245, 9, 24, 6, 78, 1099, 17, 2345, 2, 21, 27, 9685, 6139, 5, 2, 1603, 92, 1183, 4, 1310, 7, 4, 204, 42, 97, 90, 35, 221, 109, 29, 127, 27, 118, 8, 97, 12, 157, 21, 6789, 2, 9, 6, 66, 78, 1099, 4, 631, 1191, 5, 2642, 272, 191, 1070, 6, 7585, 8, 2197, 2, 2, 544, 5, 383, 1271, 848, 1468, 2, 497, 2, 8, 1597, 8778, 2, 21, 60, 27, 239, 9, 43, 8368, 209, 405, 10, 10, 12, 764, 40, 4, 248, 20, 12, 16, 5, 174, 1791, 72, 7, 51, 6, 1739, 22, 4, 204, 131, 9])],\n",
              "      dtype=object)"
            ]
          },
          "metadata": {
            "tags": []
          },
          "execution_count": 5
        }
      ]
    },
    {
      "cell_type": "code",
      "metadata": {
        "id": "LannN_J0F5VB",
        "colab_type": "code",
        "colab": {
          "base_uri": "https://localhost:8080/",
          "height": 33
        },
        "outputId": "c051902a-2e8d-44ae-d95c-2bca580366d5"
      },
      "source": [
        "X_test.shape"
      ],
      "execution_count": 6,
      "outputs": [
        {
          "output_type": "execute_result",
          "data": {
            "text/plain": [
              "(25000,)"
            ]
          },
          "metadata": {
            "tags": []
          },
          "execution_count": 6
        }
      ]
    },
    {
      "cell_type": "code",
      "metadata": {
        "id": "YMoiMvYLFzKi",
        "colab_type": "code",
        "colab": {
          "base_uri": "https://localhost:8080/",
          "height": 33
        },
        "outputId": "cea9ad37-6406-489e-b648-66f7dc206ef5"
      },
      "source": [
        "len(X_test)"
      ],
      "execution_count": 7,
      "outputs": [
        {
          "output_type": "execute_result",
          "data": {
            "text/plain": [
              "25000"
            ]
          },
          "metadata": {
            "tags": []
          },
          "execution_count": 7
        }
      ]
    },
    {
      "cell_type": "code",
      "metadata": {
        "id": "zBIgkOQ3GHKL",
        "colab_type": "code",
        "colab": {
          "base_uri": "https://localhost:8080/",
          "height": 33
        },
        "outputId": "bb9bac78-0874-4dae-a1ac-f8895bc60eba"
      },
      "source": [
        "Y_test.shape"
      ],
      "execution_count": 8,
      "outputs": [
        {
          "output_type": "execute_result",
          "data": {
            "text/plain": [
              "(25000,)"
            ]
          },
          "metadata": {
            "tags": []
          },
          "execution_count": 8
        }
      ]
    },
    {
      "cell_type": "code",
      "metadata": {
        "id": "TIFmbFp3Eu6a",
        "colab_type": "code",
        "outputId": "cc3a4d95-9bfd-457e-dcf5-8f7960ad0e40",
        "colab": {
          "base_uri": "https://localhost:8080/",
          "height": 53
        }
      },
      "source": [
        "def OneHotEncoding_fn(IMDBData, dimension=10000):\n",
        "    #25k x 10k matrix of zeros\n",
        "    OneHotEncoded_Data = np.zeros((len(IMDBData), dimension)) \n",
        "    for i, sequence in enumerate(IMDBData):\n",
        "        #Selectively make indices as 1 based on availability of word in the review.\n",
        "        OneHotEncoded_Data[i, sequence] = 1.\n",
        "    return OneHotEncoded_Data\n",
        "print(X_train[0])\n",
        "\n",
        "x_train = OneHotEncoding_fn(X_train)\n",
        "x_test = OneHotEncoding_fn(X_test)\n",
        "y_train = np.asarray(Y_train).astype('float32')\n",
        "y_test = np.asarray(Y_test).astype('float32')"
      ],
      "execution_count": 9,
      "outputs": [
        {
          "output_type": "stream",
          "text": [
            "[1, 14, 22, 16, 43, 530, 973, 1622, 1385, 65, 458, 4468, 66, 3941, 4, 173, 36, 256, 5, 25, 100, 43, 838, 112, 50, 670, 2, 9, 35, 480, 284, 5, 150, 4, 172, 112, 167, 2, 336, 385, 39, 4, 172, 4536, 1111, 17, 546, 38, 13, 447, 4, 192, 50, 16, 6, 147, 2025, 19, 14, 22, 4, 1920, 4613, 469, 4, 22, 71, 87, 12, 16, 43, 530, 38, 76, 15, 13, 1247, 4, 22, 17, 515, 17, 12, 16, 626, 18, 2, 5, 62, 386, 12, 8, 316, 8, 106, 5, 4, 2223, 5244, 16, 480, 66, 3785, 33, 4, 130, 12, 16, 38, 619, 5, 25, 124, 51, 36, 135, 48, 25, 1415, 33, 6, 22, 12, 215, 28, 77, 52, 5, 14, 407, 16, 82, 2, 8, 4, 107, 117, 5952, 15, 256, 4, 2, 7, 3766, 5, 723, 36, 71, 43, 530, 476, 26, 400, 317, 46, 7, 4, 2, 1029, 13, 104, 88, 4, 381, 15, 297, 98, 32, 2071, 56, 26, 141, 6, 194, 7486, 18, 4, 226, 22, 21, 134, 476, 26, 480, 5, 144, 30, 5535, 18, 51, 36, 28, 224, 92, 25, 104, 4, 226, 65, 16, 38, 1334, 88, 12, 16, 283, 5, 16, 4472, 113, 103, 32, 15, 16, 5345, 19, 178, 32]\n"
          ],
          "name": "stdout"
        }
      ]
    },
    {
      "cell_type": "code",
      "metadata": {
        "id": "f0SH_BzDGacn",
        "colab_type": "code",
        "colab": {
          "base_uri": "https://localhost:8080/",
          "height": 33
        },
        "outputId": "15263b1e-6e2f-40c9-e2e3-f0c20f58b570"
      },
      "source": [
        "x_train.shape"
      ],
      "execution_count": 10,
      "outputs": [
        {
          "output_type": "execute_result",
          "data": {
            "text/plain": [
              "(25000, 10000)"
            ]
          },
          "metadata": {
            "tags": []
          },
          "execution_count": 10
        }
      ]
    },
    {
      "cell_type": "code",
      "metadata": {
        "id": "1nZ6DkvgE_Xn",
        "colab_type": "code",
        "outputId": "29e73c67-dc5b-4b57-807a-a56c073fccd8",
        "colab": {
          "base_uri": "https://localhost:8080/",
          "height": 137
        }
      },
      "source": [
        "from keras import models\n",
        "from keras import layers\n",
        "\n",
        "model = models.Sequential()\n",
        "model.add(layers.Dense(32, activation='relu', input_shape=(10000,)))\n",
        "model.add(layers.Dense(32, activation='relu'))\n",
        "model.add(layers.Dense(1, activation='sigmoid'))"
      ],
      "execution_count": 11,
      "outputs": [
        {
          "output_type": "stream",
          "text": [
            "WARNING:tensorflow:From /usr/local/lib/python3.6/dist-packages/keras/backend/tensorflow_backend.py:66: The name tf.get_default_graph is deprecated. Please use tf.compat.v1.get_default_graph instead.\n",
            "\n",
            "WARNING:tensorflow:From /usr/local/lib/python3.6/dist-packages/keras/backend/tensorflow_backend.py:541: The name tf.placeholder is deprecated. Please use tf.compat.v1.placeholder instead.\n",
            "\n",
            "WARNING:tensorflow:From /usr/local/lib/python3.6/dist-packages/keras/backend/tensorflow_backend.py:4432: The name tf.random_uniform is deprecated. Please use tf.random.uniform instead.\n",
            "\n"
          ],
          "name": "stdout"
        }
      ]
    },
    {
      "cell_type": "code",
      "metadata": {
        "id": "zQjfiCxtFEcN",
        "colab_type": "code",
        "outputId": "819e7120-036a-4289-92f9-1944e7ec2a03",
        "colab": {
          "base_uri": "https://localhost:8080/",
          "height": 1000
        }
      },
      "source": [
        "from keras import optimizers\n",
        "from keras import losses\n",
        "from keras import metrics\n",
        "\n",
        "X_validation = x_train[:5000]\n",
        "X_train_without_val = x_train[5000:]\n",
        "y_validation = y_train[:5000]\n",
        "y_train_without_val = y_train[5000:]\n",
        "\n",
        "\n",
        "model.compile(optimizer=optimizers.RMSprop(lr=0.001, rho=0.9), loss= 'binary_crossentropy', metrics=['accuracy'])\n",
        "\n",
        "history = model.fit(X_train_without_val, y_train_without_val, epochs=25, batch_size=512, validation_data=(X_validation,y_validation))"
      ],
      "execution_count": 12,
      "outputs": [
        {
          "output_type": "stream",
          "text": [
            "WARNING:tensorflow:From /usr/local/lib/python3.6/dist-packages/keras/optimizers.py:793: The name tf.train.Optimizer is deprecated. Please use tf.compat.v1.train.Optimizer instead.\n",
            "\n",
            "WARNING:tensorflow:From /usr/local/lib/python3.6/dist-packages/keras/backend/tensorflow_backend.py:3657: The name tf.log is deprecated. Please use tf.math.log instead.\n",
            "\n",
            "WARNING:tensorflow:From /usr/local/lib/python3.6/dist-packages/tensorflow_core/python/ops/nn_impl.py:183: where (from tensorflow.python.ops.array_ops) is deprecated and will be removed in a future version.\n",
            "Instructions for updating:\n",
            "Use tf.where in 2.0, which has the same broadcast rule as np.where\n",
            "WARNING:tensorflow:From /usr/local/lib/python3.6/dist-packages/keras/backend/tensorflow_backend.py:1033: The name tf.assign_add is deprecated. Please use tf.compat.v1.assign_add instead.\n",
            "\n",
            "WARNING:tensorflow:From /usr/local/lib/python3.6/dist-packages/keras/backend/tensorflow_backend.py:1020: The name tf.assign is deprecated. Please use tf.compat.v1.assign instead.\n",
            "\n",
            "WARNING:tensorflow:From /usr/local/lib/python3.6/dist-packages/keras/backend/tensorflow_backend.py:3005: The name tf.Session is deprecated. Please use tf.compat.v1.Session instead.\n",
            "\n",
            "Train on 20000 samples, validate on 5000 samples\n",
            "Epoch 1/25\n",
            "WARNING:tensorflow:From /usr/local/lib/python3.6/dist-packages/keras/backend/tensorflow_backend.py:190: The name tf.get_default_session is deprecated. Please use tf.compat.v1.get_default_session instead.\n",
            "\n",
            "WARNING:tensorflow:From /usr/local/lib/python3.6/dist-packages/keras/backend/tensorflow_backend.py:197: The name tf.ConfigProto is deprecated. Please use tf.compat.v1.ConfigProto instead.\n",
            "\n",
            "WARNING:tensorflow:From /usr/local/lib/python3.6/dist-packages/keras/backend/tensorflow_backend.py:207: The name tf.global_variables is deprecated. Please use tf.compat.v1.global_variables instead.\n",
            "\n",
            "WARNING:tensorflow:From /usr/local/lib/python3.6/dist-packages/keras/backend/tensorflow_backend.py:216: The name tf.is_variable_initialized is deprecated. Please use tf.compat.v1.is_variable_initialized instead.\n",
            "\n",
            "WARNING:tensorflow:From /usr/local/lib/python3.6/dist-packages/keras/backend/tensorflow_backend.py:223: The name tf.variables_initializer is deprecated. Please use tf.compat.v1.variables_initializer instead.\n",
            "\n",
            "20000/20000 [==============================] - 11s 533us/step - loss: 0.4678 - acc: 0.7955 - val_loss: 0.3222 - val_acc: 0.8818\n",
            "Epoch 2/25\n",
            "20000/20000 [==============================] - 1s 64us/step - loss: 0.2593 - acc: 0.9071 - val_loss: 0.2985 - val_acc: 0.8830\n",
            "Epoch 3/25\n",
            "20000/20000 [==============================] - 1s 65us/step - loss: 0.1936 - acc: 0.9311 - val_loss: 0.2811 - val_acc: 0.8886\n",
            "Epoch 4/25\n",
            "20000/20000 [==============================] - 1s 64us/step - loss: 0.1597 - acc: 0.9435 - val_loss: 0.2854 - val_acc: 0.8910\n",
            "Epoch 5/25\n",
            "20000/20000 [==============================] - 1s 65us/step - loss: 0.1310 - acc: 0.9539 - val_loss: 0.2976 - val_acc: 0.8878\n",
            "Epoch 6/25\n",
            "20000/20000 [==============================] - 1s 65us/step - loss: 0.1144 - acc: 0.9598 - val_loss: 0.3138 - val_acc: 0.8878\n",
            "Epoch 7/25\n",
            "20000/20000 [==============================] - 1s 65us/step - loss: 0.0939 - acc: 0.9682 - val_loss: 0.3517 - val_acc: 0.8792\n",
            "Epoch 8/25\n",
            "20000/20000 [==============================] - 1s 65us/step - loss: 0.0773 - acc: 0.9741 - val_loss: 0.3673 - val_acc: 0.8822\n",
            "Epoch 9/25\n",
            "20000/20000 [==============================] - 1s 65us/step - loss: 0.0622 - acc: 0.9797 - val_loss: 0.4243 - val_acc: 0.8756\n",
            "Epoch 10/25\n",
            "20000/20000 [==============================] - 1s 63us/step - loss: 0.0539 - acc: 0.9824 - val_loss: 0.4353 - val_acc: 0.8782\n",
            "Epoch 11/25\n",
            "20000/20000 [==============================] - 1s 65us/step - loss: 0.0476 - acc: 0.9841 - val_loss: 0.4625 - val_acc: 0.8772\n",
            "Epoch 12/25\n",
            "20000/20000 [==============================] - 1s 63us/step - loss: 0.0339 - acc: 0.9896 - val_loss: 0.4961 - val_acc: 0.8746\n",
            "Epoch 13/25\n",
            "20000/20000 [==============================] - 1s 65us/step - loss: 0.0278 - acc: 0.9926 - val_loss: 0.5505 - val_acc: 0.8704\n",
            "Epoch 14/25\n",
            "20000/20000 [==============================] - 1s 64us/step - loss: 0.0245 - acc: 0.9934 - val_loss: 0.5687 - val_acc: 0.8738\n",
            "Epoch 15/25\n",
            "20000/20000 [==============================] - 1s 64us/step - loss: 0.0211 - acc: 0.9947 - val_loss: 0.6042 - val_acc: 0.8720\n",
            "Epoch 16/25\n",
            "20000/20000 [==============================] - 1s 64us/step - loss: 0.0145 - acc: 0.9963 - val_loss: 0.6368 - val_acc: 0.8718\n",
            "Epoch 17/25\n",
            "20000/20000 [==============================] - 1s 64us/step - loss: 0.0076 - acc: 0.9987 - val_loss: 0.6862 - val_acc: 0.8680\n",
            "Epoch 18/25\n",
            "20000/20000 [==============================] - 1s 64us/step - loss: 0.0088 - acc: 0.9976 - val_loss: 0.7002 - val_acc: 0.8692\n",
            "Epoch 19/25\n",
            "20000/20000 [==============================] - 1s 66us/step - loss: 0.0031 - acc: 0.9999 - val_loss: 0.7519 - val_acc: 0.8690\n",
            "Epoch 20/25\n",
            "20000/20000 [==============================] - 1s 64us/step - loss: 0.0117 - acc: 0.9964 - val_loss: 0.7892 - val_acc: 0.8670\n",
            "Epoch 21/25\n",
            "20000/20000 [==============================] - 1s 64us/step - loss: 0.0014 - acc: 1.0000 - val_loss: 0.8318 - val_acc: 0.8676\n",
            "Epoch 22/25\n",
            "20000/20000 [==============================] - 1s 64us/step - loss: 0.0114 - acc: 0.9965 - val_loss: 0.8582 - val_acc: 0.8668\n",
            "Epoch 23/25\n",
            "20000/20000 [==============================] - 1s 63us/step - loss: 7.7465e-04 - acc: 1.0000 - val_loss: 0.8894 - val_acc: 0.8660\n",
            "Epoch 24/25\n",
            "20000/20000 [==============================] - 1s 63us/step - loss: 0.0137 - acc: 0.9967 - val_loss: 0.9291 - val_acc: 0.8664\n",
            "Epoch 25/25\n",
            "20000/20000 [==============================] - 1s 65us/step - loss: 3.9695e-04 - acc: 1.0000 - val_loss: 0.9493 - val_acc: 0.8656\n"
          ],
          "name": "stdout"
        }
      ]
    },
    {
      "cell_type": "code",
      "metadata": {
        "id": "CZj5E8e5FFrn",
        "colab_type": "code",
        "outputId": "d02e2d0f-742f-49f8-af82-47be80070dbb",
        "colab": {
          "base_uri": "https://localhost:8080/",
          "height": 295
        }
      },
      "source": [
        "import matplotlib.pyplot as plt\n",
        "\n",
        "history_dict = history.history\n",
        "loss_values = history_dict['loss']\n",
        "val_loss_values = history_dict['val_loss']\n",
        "\n",
        "epochs = range(1, 25 + 1)\n",
        "\n",
        "plt.plot(epochs, loss_values, 'g--', label='Training loss')\n",
        "plt.plot(epochs, val_loss_values, 'r', label='Validation loss')\n",
        "plt.title('Training and validation loss')\n",
        "plt.xlabel('Epochs')\n",
        "plt.ylabel('Loss')\n",
        "plt.legend()\n",
        "\n",
        "plt.show()"
      ],
      "execution_count": 13,
      "outputs": [
        {
          "output_type": "display_data",
          "data": {
            "image/png": "[encoded data removed]",
            "text/plain": [
              "<Figure size 432x288 with 1 Axes>"
            ]
          },
          "metadata": {
            "tags": []
          }
        }
      ]
    },
    {
      "cell_type": "code",
      "metadata": {
        "id": "Gp_ud_zSHPhO",
        "colab_type": "code",
        "outputId": "fd19cf29-a855-42d0-d47c-906d027ac67f",
        "colab": {
          "base_uri": "https://localhost:8080/",
          "height": 295
        }
      },
      "source": [
        "acc_values = history_dict['acc']\n",
        "val_acc_values = history_dict['val_acc']\n",
        "plt.plot(epochs, acc_values, 'g--', label = 'Training Accuracy')\n",
        "plt.plot(epochs, val_acc_values, 'r', label = 'Validation Accuracy')\n",
        "plt.title('Training and Validation accuracy')\n",
        "plt.xlabel('Epochs')\n",
        "plt.ylabel('Accuracy')\n",
        "plt.legend()\n",
        "plt.show()\n"
      ],
      "execution_count": 14,
      "outputs": [
        {
          "output_type": "display_data",
          "data": {
            "image/png": "[encoded data removed]",
            "text/plain": [
              "<Figure size 432x288 with 1 Axes>"
            ]
          },
          "metadata": {
            "tags": []
          }
        }
      ]
    },
    {
      "cell_type": "code",
      "metadata": {
        "id": "AJpOeyldrbNc",
        "colab_type": "code",
        "colab": {
          "base_uri": "https://localhost:8080/",
          "height": 50
        },
        "outputId": "91fb7590-5332-4cf2-d0a8-fd5aeed8e993"
      },
      "source": [
        "model.evaluate(x_test, Y_test)"
      ],
      "execution_count": 15,
      "outputs": [
        {
          "output_type": "stream",
          "text": [
            "25000/25000 [==============================] - 2s 85us/step\n"
          ],
          "name": "stdout"
        },
        {
          "output_type": "execute_result",
          "data": {
            "text/plain": [
              "[1.0995829836988449, 0.84416]"
            ]
          },
          "metadata": {
            "tags": []
          },
          "execution_count": 15
        }
      ]
    },
    {
      "cell_type": "code",
      "metadata": {
        "id": "tSAvnhFaIG6p",
        "colab_type": "code",
        "outputId": "cb8e04e2-dcbe-4f91-fc6e-eae235db686f",
        "colab": {
          "base_uri": "https://localhost:8080/",
          "height": 120
        }
      },
      "source": [
        "#model with regularization and Dropout\n",
        "from keras import regularizers\n",
        "\n",
        "model = models.Sequential()\n",
        "model.add(Dense(32, kernel_regularizer = regularizers.l1_l2(l1 = 0.001, l2 = 0.01), activation = 'relu', input_shape=(10000,)))\n",
        "model.add(Dropout(0.3))\n",
        "model.add(Dense(32, kernel_regularizer = regularizers.l1_l2(l1 = 0.001, l2 = 0.01), activation = 'relu'))\n",
        "model.add(Dropout(0.3))\n",
        "model.add(Dense(32, activation = 'relu'))\n",
        "model.add(Dropout(0.5))\n",
        "model.add(Dense(1, activation = 'sigmoid'))"
      ],
      "execution_count": 16,
      "outputs": [
        {
          "output_type": "stream",
          "text": [
            "WARNING:tensorflow:From /usr/local/lib/python3.6/dist-packages/keras/backend/tensorflow_backend.py:148: The name tf.placeholder_with_default is deprecated. Please use tf.compat.v1.placeholder_with_default instead.\n",
            "\n",
            "WARNING:tensorflow:From /usr/local/lib/python3.6/dist-packages/keras/backend/tensorflow_backend.py:3733: calling dropout (from tensorflow.python.ops.nn_ops) with keep_prob is deprecated and will be removed in a future version.\n",
            "Instructions for updating:\n",
            "Please use `rate` instead of `keep_prob`. Rate should be set to `rate = 1 - keep_prob`.\n"
          ],
          "name": "stdout"
        }
      ]
    },
    {
      "cell_type": "code",
      "metadata": {
        "id": "4Q7807duxcqD",
        "colab_type": "code",
        "outputId": "6a4d4573-1c71-4a75-823f-7d7aecb2a643",
        "colab": {
          "base_uri": "https://localhost:8080/",
          "height": 870
        }
      },
      "source": [
        "model.compile(optimizer='Adam', loss= 'binary_crossentropy', metrics=['accuracy'])\n",
        "\n",
        "history = model.fit(X_train_without_val, y_train_without_val, epochs=25, batch_size=512, validation_data=(X_validation,y_validation))"
      ],
      "execution_count": 17,
      "outputs": [
        {
          "output_type": "stream",
          "text": [
            "Train on 20000 samples, validate on 5000 samples\n",
            "Epoch 1/25\n",
            "20000/20000 [==============================] - 2s 90us/step - loss: 2.3808 - acc: 0.6034 - val_loss: 1.1414 - val_acc: 0.8034\n",
            "Epoch 2/25\n",
            "20000/20000 [==============================] - 1s 66us/step - loss: 0.9963 - acc: 0.7738 - val_loss: 0.8275 - val_acc: 0.8416\n",
            "Epoch 3/25\n",
            "20000/20000 [==============================] - 1s 64us/step - loss: 0.8377 - acc: 0.8350 - val_loss: 0.7492 - val_acc: 0.8652\n",
            "Epoch 4/25\n",
            "20000/20000 [==============================] - 1s 65us/step - loss: 0.7686 - acc: 0.8594 - val_loss: 0.7163 - val_acc: 0.8652\n",
            "Epoch 5/25\n",
            "20000/20000 [==============================] - 1s 65us/step - loss: 0.7416 - acc: 0.8625 - val_loss: 0.6784 - val_acc: 0.8694\n",
            "Epoch 6/25\n",
            "20000/20000 [==============================] - 1s 64us/step - loss: 0.6731 - acc: 0.8705 - val_loss: 0.6530 - val_acc: 0.8622\n",
            "Epoch 7/25\n",
            "20000/20000 [==============================] - 1s 63us/step - loss: 0.6560 - acc: 0.8683 - val_loss: 0.6183 - val_acc: 0.8774\n",
            "Epoch 8/25\n",
            "20000/20000 [==============================] - 1s 64us/step - loss: 0.6307 - acc: 0.8736 - val_loss: 0.6171 - val_acc: 0.8696\n",
            "Epoch 9/25\n",
            "20000/20000 [==============================] - 1s 65us/step - loss: 0.6187 - acc: 0.8790 - val_loss: 0.6201 - val_acc: 0.8740\n",
            "Epoch 10/25\n",
            "20000/20000 [==============================] - 1s 63us/step - loss: 0.6215 - acc: 0.8763 - val_loss: 0.5933 - val_acc: 0.8792\n",
            "Epoch 11/25\n",
            "20000/20000 [==============================] - 1s 63us/step - loss: 0.6013 - acc: 0.8812 - val_loss: 0.5992 - val_acc: 0.8772\n",
            "Epoch 12/25\n",
            "20000/20000 [==============================] - 1s 65us/step - loss: 0.6086 - acc: 0.8790 - val_loss: 0.5963 - val_acc: 0.8774\n",
            "Epoch 13/25\n",
            "20000/20000 [==============================] - 1s 64us/step - loss: 0.5804 - acc: 0.8859 - val_loss: 0.5787 - val_acc: 0.8774\n",
            "Epoch 14/25\n",
            "20000/20000 [==============================] - 1s 65us/step - loss: 0.5844 - acc: 0.8839 - val_loss: 0.5900 - val_acc: 0.8782\n",
            "Epoch 15/25\n",
            "20000/20000 [==============================] - 1s 65us/step - loss: 0.5999 - acc: 0.8827 - val_loss: 0.6079 - val_acc: 0.8730\n",
            "Epoch 16/25\n",
            "20000/20000 [==============================] - 1s 65us/step - loss: 0.5974 - acc: 0.8839 - val_loss: 0.6000 - val_acc: 0.8762\n",
            "Epoch 17/25\n",
            "20000/20000 [==============================] - 1s 65us/step - loss: 0.5790 - acc: 0.8863 - val_loss: 0.5968 - val_acc: 0.8814\n",
            "Epoch 18/25\n",
            "20000/20000 [==============================] - 1s 66us/step - loss: 0.5827 - acc: 0.8875 - val_loss: 0.5972 - val_acc: 0.8788\n",
            "Epoch 19/25\n",
            "20000/20000 [==============================] - 1s 65us/step - loss: 0.5990 - acc: 0.8825 - val_loss: 0.6032 - val_acc: 0.8780\n",
            "Epoch 20/25\n",
            "20000/20000 [==============================] - 1s 64us/step - loss: 0.5947 - acc: 0.8867 - val_loss: 0.6082 - val_acc: 0.8792\n",
            "Epoch 21/25\n",
            "20000/20000 [==============================] - 1s 64us/step - loss: 0.5656 - acc: 0.8933 - val_loss: 0.5894 - val_acc: 0.8780\n",
            "Epoch 22/25\n",
            "20000/20000 [==============================] - 1s 65us/step - loss: 0.5595 - acc: 0.8953 - val_loss: 0.6027 - val_acc: 0.8768\n",
            "Epoch 23/25\n",
            "20000/20000 [==============================] - 1s 65us/step - loss: 0.5707 - acc: 0.8914 - val_loss: 0.6073 - val_acc: 0.8746\n",
            "Epoch 24/25\n",
            "20000/20000 [==============================] - 1s 65us/step - loss: 0.5689 - acc: 0.8961 - val_loss: 0.6017 - val_acc: 0.8790\n",
            "Epoch 25/25\n",
            "20000/20000 [==============================] - 1s 66us/step - loss: 0.5732 - acc: 0.8948 - val_loss: 0.6078 - val_acc: 0.8766\n"
          ],
          "name": "stdout"
        }
      ]
    },
    {
      "cell_type": "code",
      "metadata": {
        "id": "6MtH7_gYycNc",
        "colab_type": "code",
        "outputId": "1c16a592-e3e9-4829-88e5-61b8424f0259",
        "colab": {
          "base_uri": "https://localhost:8080/",
          "height": 295
        }
      },
      "source": [
        "import matplotlib.pyplot as plt\n",
        "\n",
        "history_dict = history.history\n",
        "loss_values = history_dict['loss']\n",
        "val_loss_values = history_dict['val_loss']\n",
        "\n",
        "epochs = range(1, 25 + 1)\n",
        "\n",
        "plt.plot(epochs, loss_values, 'g--', label='Training loss')\n",
        "plt.plot(epochs, val_loss_values, 'r', label='Validation loss')\n",
        "plt.title('Training and validation loss')\n",
        "plt.xlabel('Epochs')\n",
        "plt.ylabel('Loss')\n",
        "plt.legend()\n",
        "\n",
        "plt.show()"
      ],
      "execution_count": 18,
      "outputs": [
        {
          "output_type": "display_data",
          "data": {
            "image/png": "[encoded data removed]",
            "text/plain": [
              "<Figure size 432x288 with 1 Axes>"
            ]
          },
          "metadata": {
            "tags": []
          }
        }
      ]
    },
    {
      "cell_type": "code",
      "metadata": {
        "id": "K5pWy2PeywB0",
        "colab_type": "code",
        "outputId": "e5f305e2-0fd2-460c-f458-1c57e28fff4b",
        "colab": {
          "base_uri": "https://localhost:8080/",
          "height": 295
        }
      },
      "source": [
        "plt.clf()\n",
        "acc_values = history_dict['acc']\n",
        "val_acc_values = history_dict['val_acc']\n",
        "plt.plot(epochs, acc_values, 'g--', label='Training Accuracy')\n",
        "plt.plot(epochs, val_acc_values, 'r', label='Validation Accuracy')\n",
        "plt.title('Training and validation accuracy')\n",
        "plt.xlabel('Epochs')\n",
        "plt.ylabel('Accuracy')\n",
        "plt.legend()\n",
        "plt.show()"
      ],
      "execution_count": 19,
      "outputs": [
        {
          "output_type": "display_data",
          "data": {
            "image/png": "[encoded data removed]",
            "text/plain": [
              "<Figure size 432x288 with 1 Axes>"
            ]
          },
          "metadata": {
            "tags": []
          }
        }
      ]
    },
    {
      "cell_type": "code",
      "metadata": {
        "id": "UPd5ePV3y0mA",
        "colab_type": "code",
        "outputId": "cc838303-0be3-4cf7-b4ee-25497030f794",
        "colab": {
          "base_uri": "https://localhost:8080/",
          "height": 50
        }
      },
      "source": [
        "model.evaluate(x_test, y_test)"
      ],
      "execution_count": 20,
      "outputs": [
        {
          "output_type": "stream",
          "text": [
            "25000/25000 [==============================] - 2s 98us/step\n"
          ],
          "name": "stdout"
        },
        {
          "output_type": "execute_result",
          "data": {
            "text/plain": [
              "[0.6129204214096069, 0.87164]"
            ]
          },
          "metadata": {
            "tags": []
          },
          "execution_count": 20
        }
      ]
    }
  ]
}